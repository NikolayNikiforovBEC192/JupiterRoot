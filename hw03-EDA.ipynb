{
 "cells": [
  {
   "cell_type": "markdown",
   "metadata": {
    "id": "O6_OCTFzu8lE"
   },
   "source": [
    "## Домашнее задание 3 (10 баллов)\n",
    "\n",
    "## НИУ ВШЭ, 2020-21 учебный год"
   ]
  },
  {
   "cell_type": "markdown",
   "metadata": {
    "id": "rIc6VNYLu8lK"
   },
   "source": [
    "### О задании"
   ]
  },
  {
   "cell_type": "markdown",
   "metadata": {
    "id": "xRsXxtgNu8lM"
   },
   "source": [
    "В этом домашнем задании вы получите опыт подготовки данных и EDA (Exploratory Data Analysis), приблизившись к реальной работе с данными с помощью уже знакомых вам инструментов: numpy, pandas, matplotlib и seaborn."
   ]
  },
  {
   "cell_type": "markdown",
   "metadata": {
    "id": "01c_ZXgNu8ld"
   },
   "source": [
    "Вы будет работать с задачей кредитного скоринга (оценка надёжности клиента). Предоставляются данные о 1000 клиентов, про которых известно около 20 признаков и положительная или отрицательная оценка в качестве кредитуемого. Эти данные нужно будет подготовить, исследовать (в том числе с помощью средств визуализации) и даже попробовать предложить какую-нибудь формулу для условной оценки надёжности клиентов исходя из предоставленных данных. Описание данных:\n",
    "https://www.rdocumentation.org/packages/evtree/versions/1.0-8/topics/GermanCredit\n",
    "\n",
    "Каждый построенный график необходимо красиво оформить - для этого требуется как минимум указать его название, а также отметить, что изображено по каждой из осей.\n",
    "\n",
    "*Функции, которые могут пригодиться при оформлении графиков: `.show()`, `.title()`, `.xlabel()`, `.ylabel()`*"
   ]
  },
  {
   "cell_type": "code",
   "execution_count": 2,
   "metadata": {
    "id": "kbKMD992u8ld"
   },
   "outputs": [],
   "source": [
    "import pandas as pd"
   ]
  },
  {
   "cell_type": "markdown",
   "metadata": {
    "id": "PoKE3PySu8ld"
   },
   "source": [
    "### Задание 1 (0.0 балла)"
   ]
  },
  {
   "cell_type": "markdown",
   "metadata": {
    "id": "sMh8vvlNu8ld"
   },
   "source": [
    "Прочитайте средствами pandas файл с данными по ссылке https://raw.githubusercontent.com/PersDep/data-mining-intro-2021/main/hw03-EDA-data/german_credit.csv. Выведите базовое представление таблицы (первые 5 и последние 5 строк, размер)."
   ]
  },
  {
   "cell_type": "code",
   "execution_count": 3,
   "metadata": {
    "id": "cRtVjoMlu8le"
   },
   "outputs": [],
   "source": [
    "df = pd.read_csv(\"https://raw.githubusercontent.com/PersDep/data-mining-intro-2021/main/hw03-EDA-data/german_credit.csv\")"
   ]
  },
  {
   "cell_type": "code",
   "execution_count": 4,
   "metadata": {
    "scrolled": true
   },
   "outputs": [
    {
     "data": {
      "text/html": [
       "<div>\n",
       "<style scoped>\n",
       "    .dataframe tbody tr th:only-of-type {\n",
       "        vertical-align: middle;\n",
       "    }\n",
       "\n",
       "    .dataframe tbody tr th {\n",
       "        vertical-align: top;\n",
       "    }\n",
       "\n",
       "    .dataframe thead th {\n",
       "        text-align: right;\n",
       "    }\n",
       "</style>\n",
       "<table border=\"1\" class=\"dataframe\">\n",
       "  <thead>\n",
       "    <tr style=\"text-align: right;\">\n",
       "      <th></th>\n",
       "      <th>status</th>\n",
       "      <th>duration</th>\n",
       "      <th>credit_history</th>\n",
       "      <th>purpose</th>\n",
       "      <th>amount</th>\n",
       "      <th>savings</th>\n",
       "      <th>employment_duration</th>\n",
       "      <th>installment_rate</th>\n",
       "      <th>personal_status_sex</th>\n",
       "      <th>other_debtors</th>\n",
       "      <th>...</th>\n",
       "      <th>property</th>\n",
       "      <th>age</th>\n",
       "      <th>other_installment_plans</th>\n",
       "      <th>housing</th>\n",
       "      <th>number_credits</th>\n",
       "      <th>job</th>\n",
       "      <th>people_liable</th>\n",
       "      <th>telephone</th>\n",
       "      <th>foreign_worker</th>\n",
       "      <th>credit_risk</th>\n",
       "    </tr>\n",
       "  </thead>\n",
       "  <tbody>\n",
       "    <tr>\n",
       "      <th>0</th>\n",
       "      <td>no checking account</td>\n",
       "      <td>18</td>\n",
       "      <td>all credits at this bank paid back duly</td>\n",
       "      <td>car (used)</td>\n",
       "      <td>1049</td>\n",
       "      <td>unknown/no savings account</td>\n",
       "      <td>&lt; 1 yr</td>\n",
       "      <td>&lt; 20</td>\n",
       "      <td>female : non-single or male : single</td>\n",
       "      <td>none</td>\n",
       "      <td>...</td>\n",
       "      <td>car or other</td>\n",
       "      <td>21</td>\n",
       "      <td>none</td>\n",
       "      <td>for free</td>\n",
       "      <td>1</td>\n",
       "      <td>skilled employee/official</td>\n",
       "      <td>0 to 2</td>\n",
       "      <td>no</td>\n",
       "      <td>no</td>\n",
       "      <td>good</td>\n",
       "    </tr>\n",
       "    <tr>\n",
       "      <th>1</th>\n",
       "      <td>no checking account</td>\n",
       "      <td>9</td>\n",
       "      <td>all credits at this bank paid back duly</td>\n",
       "      <td>others</td>\n",
       "      <td>2799</td>\n",
       "      <td>unknown/no savings account</td>\n",
       "      <td>1 &lt;= ... &lt; 4 yrs</td>\n",
       "      <td>25 &lt;= ... &lt; 35</td>\n",
       "      <td>male : married/widowed</td>\n",
       "      <td>none</td>\n",
       "      <td>...</td>\n",
       "      <td>unknown / no property</td>\n",
       "      <td>36</td>\n",
       "      <td>none</td>\n",
       "      <td>for free</td>\n",
       "      <td>2-3</td>\n",
       "      <td>skilled employee/official</td>\n",
       "      <td>3 or more</td>\n",
       "      <td>no</td>\n",
       "      <td>no</td>\n",
       "      <td>good</td>\n",
       "    </tr>\n",
       "    <tr>\n",
       "      <th>2</th>\n",
       "      <td>... &lt; 0 DM</td>\n",
       "      <td>12</td>\n",
       "      <td>no credits taken/all credits paid back duly</td>\n",
       "      <td>retraining</td>\n",
       "      <td>841</td>\n",
       "      <td>... &lt;  100 DM</td>\n",
       "      <td>4 &lt;= ... &lt; 7 yrs</td>\n",
       "      <td>25 &lt;= ... &lt; 35</td>\n",
       "      <td>female : non-single or male : single</td>\n",
       "      <td>none</td>\n",
       "      <td>...</td>\n",
       "      <td>unknown / no property</td>\n",
       "      <td>23</td>\n",
       "      <td>none</td>\n",
       "      <td>for free</td>\n",
       "      <td>1</td>\n",
       "      <td>unskilled - resident</td>\n",
       "      <td>0 to 2</td>\n",
       "      <td>no</td>\n",
       "      <td>no</td>\n",
       "      <td>good</td>\n",
       "    </tr>\n",
       "    <tr>\n",
       "      <th>3</th>\n",
       "      <td>no checking account</td>\n",
       "      <td>12</td>\n",
       "      <td>all credits at this bank paid back duly</td>\n",
       "      <td>others</td>\n",
       "      <td>2122</td>\n",
       "      <td>unknown/no savings account</td>\n",
       "      <td>1 &lt;= ... &lt; 4 yrs</td>\n",
       "      <td>20 &lt;= ... &lt; 25</td>\n",
       "      <td>male : married/widowed</td>\n",
       "      <td>none</td>\n",
       "      <td>...</td>\n",
       "      <td>unknown / no property</td>\n",
       "      <td>39</td>\n",
       "      <td>none</td>\n",
       "      <td>for free</td>\n",
       "      <td>2-3</td>\n",
       "      <td>unskilled - resident</td>\n",
       "      <td>3 or more</td>\n",
       "      <td>no</td>\n",
       "      <td>yes</td>\n",
       "      <td>good</td>\n",
       "    </tr>\n",
       "    <tr>\n",
       "      <th>4</th>\n",
       "      <td>no checking account</td>\n",
       "      <td>12</td>\n",
       "      <td>all credits at this bank paid back duly</td>\n",
       "      <td>others</td>\n",
       "      <td>2171</td>\n",
       "      <td>unknown/no savings account</td>\n",
       "      <td>1 &lt;= ... &lt; 4 yrs</td>\n",
       "      <td>&lt; 20</td>\n",
       "      <td>male : married/widowed</td>\n",
       "      <td>none</td>\n",
       "      <td>...</td>\n",
       "      <td>car or other</td>\n",
       "      <td>38</td>\n",
       "      <td>bank</td>\n",
       "      <td>rent</td>\n",
       "      <td>2-3</td>\n",
       "      <td>unskilled - resident</td>\n",
       "      <td>0 to 2</td>\n",
       "      <td>no</td>\n",
       "      <td>yes</td>\n",
       "      <td>good</td>\n",
       "    </tr>\n",
       "    <tr>\n",
       "      <th>...</th>\n",
       "      <td>...</td>\n",
       "      <td>...</td>\n",
       "      <td>...</td>\n",
       "      <td>...</td>\n",
       "      <td>...</td>\n",
       "      <td>...</td>\n",
       "      <td>...</td>\n",
       "      <td>...</td>\n",
       "      <td>...</td>\n",
       "      <td>...</td>\n",
       "      <td>...</td>\n",
       "      <td>...</td>\n",
       "      <td>...</td>\n",
       "      <td>...</td>\n",
       "      <td>...</td>\n",
       "      <td>...</td>\n",
       "      <td>...</td>\n",
       "      <td>...</td>\n",
       "      <td>...</td>\n",
       "      <td>...</td>\n",
       "      <td>...</td>\n",
       "    </tr>\n",
       "    <tr>\n",
       "      <th>995</th>\n",
       "      <td>no checking account</td>\n",
       "      <td>24</td>\n",
       "      <td>no credits taken/all credits paid back duly</td>\n",
       "      <td>furniture/equipment</td>\n",
       "      <td>1987</td>\n",
       "      <td>unknown/no savings account</td>\n",
       "      <td>1 &lt;= ... &lt; 4 yrs</td>\n",
       "      <td>25 &lt;= ... &lt; 35</td>\n",
       "      <td>male : married/widowed</td>\n",
       "      <td>none</td>\n",
       "      <td>...</td>\n",
       "      <td>unknown / no property</td>\n",
       "      <td>21</td>\n",
       "      <td>none</td>\n",
       "      <td>for free</td>\n",
       "      <td>1</td>\n",
       "      <td>unskilled - resident</td>\n",
       "      <td>3 or more</td>\n",
       "      <td>no</td>\n",
       "      <td>no</td>\n",
       "      <td>bad</td>\n",
       "    </tr>\n",
       "    <tr>\n",
       "      <th>996</th>\n",
       "      <td>no checking account</td>\n",
       "      <td>24</td>\n",
       "      <td>no credits taken/all credits paid back duly</td>\n",
       "      <td>others</td>\n",
       "      <td>2303</td>\n",
       "      <td>unknown/no savings account</td>\n",
       "      <td>&gt;= 7 yrs</td>\n",
       "      <td>&lt; 20</td>\n",
       "      <td>male : married/widowed</td>\n",
       "      <td>co-applicant</td>\n",
       "      <td>...</td>\n",
       "      <td>unknown / no property</td>\n",
       "      <td>45</td>\n",
       "      <td>none</td>\n",
       "      <td>rent</td>\n",
       "      <td>1</td>\n",
       "      <td>skilled employee/official</td>\n",
       "      <td>0 to 2</td>\n",
       "      <td>no</td>\n",
       "      <td>no</td>\n",
       "      <td>bad</td>\n",
       "    </tr>\n",
       "    <tr>\n",
       "      <th>997</th>\n",
       "      <td>... &gt;= 200 DM / salary for at least 1 year</td>\n",
       "      <td>21</td>\n",
       "      <td>all credits at this bank paid back duly</td>\n",
       "      <td>others</td>\n",
       "      <td>12680</td>\n",
       "      <td>... &gt;= 1000 DM</td>\n",
       "      <td>&gt;= 7 yrs</td>\n",
       "      <td>&lt; 20</td>\n",
       "      <td>male : married/widowed</td>\n",
       "      <td>none</td>\n",
       "      <td>...</td>\n",
       "      <td>real estate</td>\n",
       "      <td>30</td>\n",
       "      <td>none</td>\n",
       "      <td>own</td>\n",
       "      <td>1</td>\n",
       "      <td>manager/self-empl./highly qualif. employee</td>\n",
       "      <td>0 to 2</td>\n",
       "      <td>yes (under customer name)</td>\n",
       "      <td>no</td>\n",
       "      <td>bad</td>\n",
       "    </tr>\n",
       "    <tr>\n",
       "      <th>998</th>\n",
       "      <td>... &lt; 0 DM</td>\n",
       "      <td>12</td>\n",
       "      <td>no credits taken/all credits paid back duly</td>\n",
       "      <td>furniture/equipment</td>\n",
       "      <td>6468</td>\n",
       "      <td>... &gt;= 1000 DM</td>\n",
       "      <td>unemployed</td>\n",
       "      <td>25 &lt;= ... &lt; 35</td>\n",
       "      <td>male : married/widowed</td>\n",
       "      <td>none</td>\n",
       "      <td>...</td>\n",
       "      <td>real estate</td>\n",
       "      <td>52</td>\n",
       "      <td>none</td>\n",
       "      <td>rent</td>\n",
       "      <td>1</td>\n",
       "      <td>manager/self-empl./highly qualif. employee</td>\n",
       "      <td>0 to 2</td>\n",
       "      <td>yes (under customer name)</td>\n",
       "      <td>no</td>\n",
       "      <td>bad</td>\n",
       "    </tr>\n",
       "    <tr>\n",
       "      <th>999</th>\n",
       "      <td>no checking account</td>\n",
       "      <td>30</td>\n",
       "      <td>no credits taken/all credits paid back duly</td>\n",
       "      <td>car (used)</td>\n",
       "      <td>6350</td>\n",
       "      <td>... &gt;= 1000 DM</td>\n",
       "      <td>&gt;= 7 yrs</td>\n",
       "      <td>&lt; 20</td>\n",
       "      <td>male : married/widowed</td>\n",
       "      <td>none</td>\n",
       "      <td>...</td>\n",
       "      <td>car or other</td>\n",
       "      <td>31</td>\n",
       "      <td>none</td>\n",
       "      <td>rent</td>\n",
       "      <td>1</td>\n",
       "      <td>skilled employee/official</td>\n",
       "      <td>0 to 2</td>\n",
       "      <td>no</td>\n",
       "      <td>no</td>\n",
       "      <td>bad</td>\n",
       "    </tr>\n",
       "  </tbody>\n",
       "</table>\n",
       "<p>1000 rows × 21 columns</p>\n",
       "</div>"
      ],
      "text/plain": [
       "                                         status  duration  \\\n",
       "0                           no checking account        18   \n",
       "1                           no checking account         9   \n",
       "2                                    ... < 0 DM        12   \n",
       "3                           no checking account        12   \n",
       "4                           no checking account        12   \n",
       "..                                          ...       ...   \n",
       "995                         no checking account        24   \n",
       "996                         no checking account        24   \n",
       "997  ... >= 200 DM / salary for at least 1 year        21   \n",
       "998                                  ... < 0 DM        12   \n",
       "999                         no checking account        30   \n",
       "\n",
       "                                  credit_history              purpose  amount  \\\n",
       "0        all credits at this bank paid back duly           car (used)    1049   \n",
       "1        all credits at this bank paid back duly               others    2799   \n",
       "2    no credits taken/all credits paid back duly           retraining     841   \n",
       "3        all credits at this bank paid back duly               others    2122   \n",
       "4        all credits at this bank paid back duly               others    2171   \n",
       "..                                           ...                  ...     ...   \n",
       "995  no credits taken/all credits paid back duly  furniture/equipment    1987   \n",
       "996  no credits taken/all credits paid back duly               others    2303   \n",
       "997      all credits at this bank paid back duly               others   12680   \n",
       "998  no credits taken/all credits paid back duly  furniture/equipment    6468   \n",
       "999  no credits taken/all credits paid back duly           car (used)    6350   \n",
       "\n",
       "                        savings employment_duration installment_rate  \\\n",
       "0    unknown/no savings account              < 1 yr             < 20   \n",
       "1    unknown/no savings account    1 <= ... < 4 yrs   25 <= ... < 35   \n",
       "2                 ... <  100 DM    4 <= ... < 7 yrs   25 <= ... < 35   \n",
       "3    unknown/no savings account    1 <= ... < 4 yrs   20 <= ... < 25   \n",
       "4    unknown/no savings account    1 <= ... < 4 yrs             < 20   \n",
       "..                          ...                 ...              ...   \n",
       "995  unknown/no savings account    1 <= ... < 4 yrs   25 <= ... < 35   \n",
       "996  unknown/no savings account            >= 7 yrs             < 20   \n",
       "997              ... >= 1000 DM            >= 7 yrs             < 20   \n",
       "998              ... >= 1000 DM          unemployed   25 <= ... < 35   \n",
       "999              ... >= 1000 DM            >= 7 yrs             < 20   \n",
       "\n",
       "                      personal_status_sex other_debtors  ...  \\\n",
       "0    female : non-single or male : single          none  ...   \n",
       "1                  male : married/widowed          none  ...   \n",
       "2    female : non-single or male : single          none  ...   \n",
       "3                  male : married/widowed          none  ...   \n",
       "4                  male : married/widowed          none  ...   \n",
       "..                                    ...           ...  ...   \n",
       "995                male : married/widowed          none  ...   \n",
       "996                male : married/widowed  co-applicant  ...   \n",
       "997                male : married/widowed          none  ...   \n",
       "998                male : married/widowed          none  ...   \n",
       "999                male : married/widowed          none  ...   \n",
       "\n",
       "                  property age  other_installment_plans   housing  \\\n",
       "0             car or other  21                     none  for free   \n",
       "1    unknown / no property  36                     none  for free   \n",
       "2    unknown / no property  23                     none  for free   \n",
       "3    unknown / no property  39                     none  for free   \n",
       "4             car or other  38                     bank      rent   \n",
       "..                     ...  ..                      ...       ...   \n",
       "995  unknown / no property  21                     none  for free   \n",
       "996  unknown / no property  45                     none      rent   \n",
       "997            real estate  30                     none       own   \n",
       "998            real estate  52                     none      rent   \n",
       "999           car or other  31                     none      rent   \n",
       "\n",
       "    number_credits                                         job people_liable  \\\n",
       "0                1                   skilled employee/official        0 to 2   \n",
       "1              2-3                   skilled employee/official     3 or more   \n",
       "2                1                        unskilled - resident        0 to 2   \n",
       "3              2-3                        unskilled - resident     3 or more   \n",
       "4              2-3                        unskilled - resident        0 to 2   \n",
       "..             ...                                         ...           ...   \n",
       "995              1                        unskilled - resident     3 or more   \n",
       "996              1                   skilled employee/official        0 to 2   \n",
       "997              1  manager/self-empl./highly qualif. employee        0 to 2   \n",
       "998              1  manager/self-empl./highly qualif. employee        0 to 2   \n",
       "999              1                   skilled employee/official        0 to 2   \n",
       "\n",
       "                     telephone foreign_worker credit_risk  \n",
       "0                           no             no        good  \n",
       "1                           no             no        good  \n",
       "2                           no             no        good  \n",
       "3                           no            yes        good  \n",
       "4                           no            yes        good  \n",
       "..                         ...            ...         ...  \n",
       "995                         no             no         bad  \n",
       "996                         no             no         bad  \n",
       "997  yes (under customer name)             no         bad  \n",
       "998  yes (under customer name)             no         bad  \n",
       "999                         no             no         bad  \n",
       "\n",
       "[1000 rows x 21 columns]"
      ]
     },
     "execution_count": 4,
     "metadata": {},
     "output_type": "execute_result"
    }
   ],
   "source": [
    "df"
   ]
  },
  {
   "cell_type": "markdown",
   "metadata": {
    "id": "JBbxRdOQu8le"
   },
   "source": [
    "### Задание 2 (0.5 балла)"
   ]
  },
  {
   "cell_type": "markdown",
   "metadata": {
    "id": "hIPt1r6ju8le"
   },
   "source": [
    "Определите, есть ли пропуски в данных. Разделите признаки на количественные, бинарные, порядковые и номинальные."
   ]
  },
  {
   "cell_type": "code",
   "execution_count": 5,
   "metadata": {
    "scrolled": true
   },
   "outputs": [
    {
     "data": {
      "text/html": [
       "<div>\n",
       "<style scoped>\n",
       "    .dataframe tbody tr th:only-of-type {\n",
       "        vertical-align: middle;\n",
       "    }\n",
       "\n",
       "    .dataframe tbody tr th {\n",
       "        vertical-align: top;\n",
       "    }\n",
       "\n",
       "    .dataframe thead th {\n",
       "        text-align: right;\n",
       "    }\n",
       "</style>\n",
       "<table border=\"1\" class=\"dataframe\">\n",
       "  <thead>\n",
       "    <tr style=\"text-align: right;\">\n",
       "      <th></th>\n",
       "      <th>status</th>\n",
       "      <th>duration</th>\n",
       "      <th>credit_history</th>\n",
       "      <th>purpose</th>\n",
       "      <th>amount</th>\n",
       "      <th>savings</th>\n",
       "      <th>employment_duration</th>\n",
       "      <th>installment_rate</th>\n",
       "      <th>personal_status_sex</th>\n",
       "      <th>other_debtors</th>\n",
       "      <th>...</th>\n",
       "      <th>property</th>\n",
       "      <th>age</th>\n",
       "      <th>other_installment_plans</th>\n",
       "      <th>housing</th>\n",
       "      <th>number_credits</th>\n",
       "      <th>job</th>\n",
       "      <th>people_liable</th>\n",
       "      <th>telephone</th>\n",
       "      <th>foreign_worker</th>\n",
       "      <th>credit_risk</th>\n",
       "    </tr>\n",
       "  </thead>\n",
       "  <tbody>\n",
       "    <tr>\n",
       "      <th>0</th>\n",
       "      <td>True</td>\n",
       "      <td>True</td>\n",
       "      <td>True</td>\n",
       "      <td>True</td>\n",
       "      <td>True</td>\n",
       "      <td>True</td>\n",
       "      <td>True</td>\n",
       "      <td>True</td>\n",
       "      <td>True</td>\n",
       "      <td>True</td>\n",
       "      <td>...</td>\n",
       "      <td>True</td>\n",
       "      <td>True</td>\n",
       "      <td>True</td>\n",
       "      <td>True</td>\n",
       "      <td>True</td>\n",
       "      <td>True</td>\n",
       "      <td>True</td>\n",
       "      <td>True</td>\n",
       "      <td>True</td>\n",
       "      <td>True</td>\n",
       "    </tr>\n",
       "    <tr>\n",
       "      <th>1</th>\n",
       "      <td>True</td>\n",
       "      <td>True</td>\n",
       "      <td>True</td>\n",
       "      <td>True</td>\n",
       "      <td>True</td>\n",
       "      <td>True</td>\n",
       "      <td>True</td>\n",
       "      <td>True</td>\n",
       "      <td>True</td>\n",
       "      <td>True</td>\n",
       "      <td>...</td>\n",
       "      <td>True</td>\n",
       "      <td>True</td>\n",
       "      <td>True</td>\n",
       "      <td>True</td>\n",
       "      <td>True</td>\n",
       "      <td>True</td>\n",
       "      <td>True</td>\n",
       "      <td>True</td>\n",
       "      <td>True</td>\n",
       "      <td>True</td>\n",
       "    </tr>\n",
       "    <tr>\n",
       "      <th>2</th>\n",
       "      <td>True</td>\n",
       "      <td>True</td>\n",
       "      <td>True</td>\n",
       "      <td>True</td>\n",
       "      <td>True</td>\n",
       "      <td>True</td>\n",
       "      <td>True</td>\n",
       "      <td>True</td>\n",
       "      <td>True</td>\n",
       "      <td>True</td>\n",
       "      <td>...</td>\n",
       "      <td>True</td>\n",
       "      <td>True</td>\n",
       "      <td>True</td>\n",
       "      <td>True</td>\n",
       "      <td>True</td>\n",
       "      <td>True</td>\n",
       "      <td>True</td>\n",
       "      <td>True</td>\n",
       "      <td>True</td>\n",
       "      <td>True</td>\n",
       "    </tr>\n",
       "    <tr>\n",
       "      <th>3</th>\n",
       "      <td>True</td>\n",
       "      <td>True</td>\n",
       "      <td>True</td>\n",
       "      <td>True</td>\n",
       "      <td>True</td>\n",
       "      <td>True</td>\n",
       "      <td>True</td>\n",
       "      <td>True</td>\n",
       "      <td>True</td>\n",
       "      <td>True</td>\n",
       "      <td>...</td>\n",
       "      <td>True</td>\n",
       "      <td>True</td>\n",
       "      <td>True</td>\n",
       "      <td>True</td>\n",
       "      <td>True</td>\n",
       "      <td>True</td>\n",
       "      <td>True</td>\n",
       "      <td>True</td>\n",
       "      <td>True</td>\n",
       "      <td>True</td>\n",
       "    </tr>\n",
       "    <tr>\n",
       "      <th>4</th>\n",
       "      <td>True</td>\n",
       "      <td>True</td>\n",
       "      <td>True</td>\n",
       "      <td>True</td>\n",
       "      <td>True</td>\n",
       "      <td>True</td>\n",
       "      <td>True</td>\n",
       "      <td>True</td>\n",
       "      <td>True</td>\n",
       "      <td>True</td>\n",
       "      <td>...</td>\n",
       "      <td>True</td>\n",
       "      <td>True</td>\n",
       "      <td>True</td>\n",
       "      <td>True</td>\n",
       "      <td>True</td>\n",
       "      <td>True</td>\n",
       "      <td>True</td>\n",
       "      <td>True</td>\n",
       "      <td>True</td>\n",
       "      <td>True</td>\n",
       "    </tr>\n",
       "    <tr>\n",
       "      <th>...</th>\n",
       "      <td>...</td>\n",
       "      <td>...</td>\n",
       "      <td>...</td>\n",
       "      <td>...</td>\n",
       "      <td>...</td>\n",
       "      <td>...</td>\n",
       "      <td>...</td>\n",
       "      <td>...</td>\n",
       "      <td>...</td>\n",
       "      <td>...</td>\n",
       "      <td>...</td>\n",
       "      <td>...</td>\n",
       "      <td>...</td>\n",
       "      <td>...</td>\n",
       "      <td>...</td>\n",
       "      <td>...</td>\n",
       "      <td>...</td>\n",
       "      <td>...</td>\n",
       "      <td>...</td>\n",
       "      <td>...</td>\n",
       "      <td>...</td>\n",
       "    </tr>\n",
       "    <tr>\n",
       "      <th>995</th>\n",
       "      <td>True</td>\n",
       "      <td>True</td>\n",
       "      <td>True</td>\n",
       "      <td>True</td>\n",
       "      <td>True</td>\n",
       "      <td>True</td>\n",
       "      <td>True</td>\n",
       "      <td>True</td>\n",
       "      <td>True</td>\n",
       "      <td>True</td>\n",
       "      <td>...</td>\n",
       "      <td>True</td>\n",
       "      <td>True</td>\n",
       "      <td>True</td>\n",
       "      <td>True</td>\n",
       "      <td>True</td>\n",
       "      <td>True</td>\n",
       "      <td>True</td>\n",
       "      <td>True</td>\n",
       "      <td>True</td>\n",
       "      <td>True</td>\n",
       "    </tr>\n",
       "    <tr>\n",
       "      <th>996</th>\n",
       "      <td>True</td>\n",
       "      <td>True</td>\n",
       "      <td>True</td>\n",
       "      <td>True</td>\n",
       "      <td>True</td>\n",
       "      <td>True</td>\n",
       "      <td>True</td>\n",
       "      <td>True</td>\n",
       "      <td>True</td>\n",
       "      <td>True</td>\n",
       "      <td>...</td>\n",
       "      <td>True</td>\n",
       "      <td>True</td>\n",
       "      <td>True</td>\n",
       "      <td>True</td>\n",
       "      <td>True</td>\n",
       "      <td>True</td>\n",
       "      <td>True</td>\n",
       "      <td>True</td>\n",
       "      <td>True</td>\n",
       "      <td>True</td>\n",
       "    </tr>\n",
       "    <tr>\n",
       "      <th>997</th>\n",
       "      <td>True</td>\n",
       "      <td>True</td>\n",
       "      <td>True</td>\n",
       "      <td>True</td>\n",
       "      <td>True</td>\n",
       "      <td>True</td>\n",
       "      <td>True</td>\n",
       "      <td>True</td>\n",
       "      <td>True</td>\n",
       "      <td>True</td>\n",
       "      <td>...</td>\n",
       "      <td>True</td>\n",
       "      <td>True</td>\n",
       "      <td>True</td>\n",
       "      <td>True</td>\n",
       "      <td>True</td>\n",
       "      <td>True</td>\n",
       "      <td>True</td>\n",
       "      <td>True</td>\n",
       "      <td>True</td>\n",
       "      <td>True</td>\n",
       "    </tr>\n",
       "    <tr>\n",
       "      <th>998</th>\n",
       "      <td>True</td>\n",
       "      <td>True</td>\n",
       "      <td>True</td>\n",
       "      <td>True</td>\n",
       "      <td>True</td>\n",
       "      <td>True</td>\n",
       "      <td>True</td>\n",
       "      <td>True</td>\n",
       "      <td>True</td>\n",
       "      <td>True</td>\n",
       "      <td>...</td>\n",
       "      <td>True</td>\n",
       "      <td>True</td>\n",
       "      <td>True</td>\n",
       "      <td>True</td>\n",
       "      <td>True</td>\n",
       "      <td>True</td>\n",
       "      <td>True</td>\n",
       "      <td>True</td>\n",
       "      <td>True</td>\n",
       "      <td>True</td>\n",
       "    </tr>\n",
       "    <tr>\n",
       "      <th>999</th>\n",
       "      <td>True</td>\n",
       "      <td>True</td>\n",
       "      <td>True</td>\n",
       "      <td>True</td>\n",
       "      <td>True</td>\n",
       "      <td>True</td>\n",
       "      <td>True</td>\n",
       "      <td>True</td>\n",
       "      <td>True</td>\n",
       "      <td>True</td>\n",
       "      <td>...</td>\n",
       "      <td>True</td>\n",
       "      <td>True</td>\n",
       "      <td>True</td>\n",
       "      <td>True</td>\n",
       "      <td>True</td>\n",
       "      <td>True</td>\n",
       "      <td>True</td>\n",
       "      <td>True</td>\n",
       "      <td>True</td>\n",
       "      <td>True</td>\n",
       "    </tr>\n",
       "  </tbody>\n",
       "</table>\n",
       "<p>1000 rows × 21 columns</p>\n",
       "</div>"
      ],
      "text/plain": [
       "     status  duration  credit_history  purpose  amount  savings  \\\n",
       "0      True      True            True     True    True     True   \n",
       "1      True      True            True     True    True     True   \n",
       "2      True      True            True     True    True     True   \n",
       "3      True      True            True     True    True     True   \n",
       "4      True      True            True     True    True     True   \n",
       "..      ...       ...             ...      ...     ...      ...   \n",
       "995    True      True            True     True    True     True   \n",
       "996    True      True            True     True    True     True   \n",
       "997    True      True            True     True    True     True   \n",
       "998    True      True            True     True    True     True   \n",
       "999    True      True            True     True    True     True   \n",
       "\n",
       "     employment_duration  installment_rate  personal_status_sex  \\\n",
       "0                   True              True                 True   \n",
       "1                   True              True                 True   \n",
       "2                   True              True                 True   \n",
       "3                   True              True                 True   \n",
       "4                   True              True                 True   \n",
       "..                   ...               ...                  ...   \n",
       "995                 True              True                 True   \n",
       "996                 True              True                 True   \n",
       "997                 True              True                 True   \n",
       "998                 True              True                 True   \n",
       "999                 True              True                 True   \n",
       "\n",
       "     other_debtors  ...  property   age  other_installment_plans  housing  \\\n",
       "0             True  ...      True  True                     True     True   \n",
       "1             True  ...      True  True                     True     True   \n",
       "2             True  ...      True  True                     True     True   \n",
       "3             True  ...      True  True                     True     True   \n",
       "4             True  ...      True  True                     True     True   \n",
       "..             ...  ...       ...   ...                      ...      ...   \n",
       "995           True  ...      True  True                     True     True   \n",
       "996           True  ...      True  True                     True     True   \n",
       "997           True  ...      True  True                     True     True   \n",
       "998           True  ...      True  True                     True     True   \n",
       "999           True  ...      True  True                     True     True   \n",
       "\n",
       "     number_credits   job  people_liable  telephone  foreign_worker  \\\n",
       "0              True  True           True       True            True   \n",
       "1              True  True           True       True            True   \n",
       "2              True  True           True       True            True   \n",
       "3              True  True           True       True            True   \n",
       "4              True  True           True       True            True   \n",
       "..              ...   ...            ...        ...             ...   \n",
       "995            True  True           True       True            True   \n",
       "996            True  True           True       True            True   \n",
       "997            True  True           True       True            True   \n",
       "998            True  True           True       True            True   \n",
       "999            True  True           True       True            True   \n",
       "\n",
       "     credit_risk  \n",
       "0           True  \n",
       "1           True  \n",
       "2           True  \n",
       "3           True  \n",
       "4           True  \n",
       "..           ...  \n",
       "995         True  \n",
       "996         True  \n",
       "997         True  \n",
       "998         True  \n",
       "999         True  \n",
       "\n",
       "[1000 rows x 21 columns]"
      ]
     },
     "execution_count": 5,
     "metadata": {},
     "output_type": "execute_result"
    }
   ],
   "source": [
    "df.notna()"
   ]
  },
  {
   "cell_type": "code",
   "execution_count": 6,
   "metadata": {
    "id": "jD04ZLhdM6DT",
    "scrolled": true
   },
   "outputs": [
    {
     "data": {
      "text/plain": [
       "status                     1\n",
       "duration                   1\n",
       "credit_history             1\n",
       "purpose                    1\n",
       "amount                     1\n",
       "savings                    1\n",
       "employment_duration        1\n",
       "installment_rate           1\n",
       "personal_status_sex        1\n",
       "other_debtors              1\n",
       "present_residence          1\n",
       "property                   1\n",
       "age                        1\n",
       "other_installment_plans    1\n",
       "housing                    1\n",
       "number_credits             1\n",
       "job                        1\n",
       "people_liable              1\n",
       "telephone                  1\n",
       "foreign_worker             1\n",
       "credit_risk                1\n",
       "dtype: int64"
      ]
     },
     "execution_count": 6,
     "metadata": {},
     "output_type": "execute_result"
    }
   ],
   "source": [
    "df.notna().nunique()"
   ]
  },
  {
   "cell_type": "markdown",
   "metadata": {},
   "source": [
    "Если считать пропуском пустые значение, то их нет.\n",
    "Однако в каждом столбце может отсуствовать информация (будет тип \"no checking account\"))"
   ]
  },
  {
   "cell_type": "code",
   "execution_count": 7,
   "metadata": {},
   "outputs": [],
   "source": [
    "import numpy\n",
    "kolich = [] # сумма кредита, возраст, стаж работы и тд\n",
    "binar = [] # пол, наличие телефона\n",
    "poryadkov = [] # образованиеб занимаемая должность - то что можно \n",
    "nominal = [] # место проживания, профессия или работодатель\n",
    "\n",
    "for i in df.columns:\n",
    "    a = 0\n",
    "    if type(df[i][0]) != str:\n",
    "        kolich.append(i)\n",
    "    elif df[i].nunique() == 2:\n",
    "        binar.append(i)\n",
    "    else:\n",
    "        for j in df[i].unique(): # Чтобы поймать возможность некого ранжирования\n",
    "            for k in j:\n",
    "                if a != 1:\n",
    "                    try:\n",
    "                        if int(k):\n",
    "                            poryadkov.append(i)\n",
    "                            a = 1\n",
    "                            break\n",
    "                    except ValueError:\n",
    "                        break\n",
    "nominal = list(set(df.columns) - set(kolich) - set(binar) - set(poryadkov))"
   ]
  },
  {
   "cell_type": "code",
   "execution_count": 8,
   "metadata": {
    "scrolled": true
   },
   "outputs": [
    {
     "name": "stdout",
     "output_type": "stream",
     "text": [
      "Количественные признаки: ['duration', 'amount', 'age']\n",
      "Бинарные признаки: ['people_liable', 'telephone', 'foreign_worker', 'credit_risk']\n",
      "Порядковые признаки: ['savings', 'employment_duration', 'installment_rate', 'present_residence', 'number_credits']\n",
      "Номинальные признаки: ['other_installment_plans', 'status', 'housing', 'personal_status_sex', 'other_debtors', 'credit_history', 'property', 'purpose', 'job']\n"
     ]
    }
   ],
   "source": [
    "print(f\"Количественные признаки: {kolich}\")\n",
    "print(f\"Бинарные признаки: {binar}\")\n",
    "print(f\"Порядковые признаки: {poryadkov}\")\n",
    "print(f\"Номинальные признаки: {nominal}\")"
   ]
  },
  {
   "cell_type": "markdown",
   "metadata": {
    "id": "SqPrAHdKRTIE"
   },
   "source": [
    "### Задание 3 (0.5 балла)"
   ]
  },
  {
   "cell_type": "markdown",
   "metadata": {
    "id": "KlMiEcHBRXhD"
   },
   "source": [
    "Выведите среднюю сумму кредита (колонка amount) в каждой категории (колонка purpose), воспользовавшись методом groupby."
   ]
  },
  {
   "cell_type": "code",
   "execution_count": 9,
   "metadata": {
    "id": "oXE_DvksRbpn",
    "scrolled": true
   },
   "outputs": [
    {
     "data": {
      "text/plain": [
       "purpose\n",
       "business               8209.333333\n",
       "car (new)              5370.223301\n",
       "car (used)             3066.983425\n",
       "domestic appliances    2728.090909\n",
       "furniture/equipment    2487.685714\n",
       "others                 3062.948718\n",
       "radio/television       1498.000000\n",
       "repairs                3180.400000\n",
       "retraining             4158.041237\n",
       "vacation               1205.888889\n",
       "Name: amount, dtype: float64"
      ]
     },
     "execution_count": 9,
     "metadata": {},
     "output_type": "execute_result"
    }
   ],
   "source": [
    "df.groupby(\"purpose\")[\"amount\"].mean()"
   ]
  },
  {
   "cell_type": "markdown",
   "metadata": {
    "id": "mG3ALQRdu8le"
   },
   "source": [
    "### Задание 4 (0.5 балла)\n"
   ]
  },
  {
   "cell_type": "markdown",
   "metadata": {
    "id": "dlb3bBzTu8lf"
   },
   "source": [
    "Какой процент клиентов моложе 30 лет (колонка age) снимает жилье (колонка housing)? А какой процент клиентов старше 40 лет снимает жилье?"
   ]
  },
  {
   "cell_type": "code",
   "execution_count": 10,
   "metadata": {
    "id": "MbGsJVWQu8lf",
    "scrolled": true
   },
   "outputs": [
    {
     "name": "stdout",
     "output_type": "stream",
     "text": [
      "Процент клиентов моложе 30 лет, снимающие жилье: 66.67 %\n",
      "Процент клиентов страше 40 лет, снимающие жилье: 68.01 %\n"
     ]
    }
   ],
   "source": [
    "print(f\"Процент клиентов моложе 30 лет, снимающие жилье: {round(df[(df['age'] < 30) & (df['housing'] == 'rent')].shape[0] * 100 /df[df['age'] < 30].shape[0], 2)} %\")\n",
    "print(f\"Процент клиентов страше 40 лет, снимающие жилье: {round(df[(df['age'] > 40) & (df['housing'] == 'rent')].shape[0] * 100 /df[df['age'] > 40].shape[0], 2)} %\")"
   ]
  },
  {
   "cell_type": "markdown",
   "metadata": {
    "id": "-JG_63_nu8lf"
   },
   "source": [
    "### Задание 5 (0.5 балла)"
   ]
  },
  {
   "cell_type": "markdown",
   "metadata": {
    "id": "aEC7Jj5eu8lf"
   },
   "source": [
    " У скольких иностранцев (foreign_worker) число кредитов (number_credits) больше 3?"
   ]
  },
  {
   "cell_type": "code",
   "execution_count": 11,
   "metadata": {
    "scrolled": true
   },
   "outputs": [
    {
     "data": {
      "text/plain": [
       "array(['1', '2-3', '4-5', '>= 6'], dtype=object)"
      ]
     },
     "execution_count": 11,
     "metadata": {},
     "output_type": "execute_result"
    }
   ],
   "source": [
    "df[\"number_credits\"].unique()"
   ]
  },
  {
   "cell_type": "code",
   "execution_count": 12,
   "metadata": {},
   "outputs": [],
   "source": [
    "df[\"kat_number_credits\"] = df.apply(lambda row: int(row.number_credits[0]) if row.number_credits[0]!= \">\" else 4, axis= 1)"
   ]
  },
  {
   "cell_type": "code",
   "execution_count": 13,
   "metadata": {},
   "outputs": [
    {
     "data": {
      "text/plain": [
       "array([1, 2, 4])"
      ]
     },
     "execution_count": 13,
     "metadata": {},
     "output_type": "execute_result"
    }
   ],
   "source": [
    "df[\"kat_number_credits\"].unique()"
   ]
  },
  {
   "cell_type": "code",
   "execution_count": 14,
   "metadata": {
    "id": "ScD09Oa4u8lf",
    "scrolled": true
   },
   "outputs": [
    {
     "data": {
      "text/html": [
       "<div>\n",
       "<style scoped>\n",
       "    .dataframe tbody tr th:only-of-type {\n",
       "        vertical-align: middle;\n",
       "    }\n",
       "\n",
       "    .dataframe tbody tr th {\n",
       "        vertical-align: top;\n",
       "    }\n",
       "\n",
       "    .dataframe thead th {\n",
       "        text-align: right;\n",
       "    }\n",
       "</style>\n",
       "<table border=\"1\" class=\"dataframe\">\n",
       "  <thead>\n",
       "    <tr style=\"text-align: right;\">\n",
       "      <th></th>\n",
       "      <th>status</th>\n",
       "      <th>duration</th>\n",
       "      <th>credit_history</th>\n",
       "      <th>purpose</th>\n",
       "      <th>amount</th>\n",
       "      <th>savings</th>\n",
       "      <th>employment_duration</th>\n",
       "      <th>installment_rate</th>\n",
       "      <th>personal_status_sex</th>\n",
       "      <th>other_debtors</th>\n",
       "      <th>...</th>\n",
       "      <th>age</th>\n",
       "      <th>other_installment_plans</th>\n",
       "      <th>housing</th>\n",
       "      <th>number_credits</th>\n",
       "      <th>job</th>\n",
       "      <th>people_liable</th>\n",
       "      <th>telephone</th>\n",
       "      <th>foreign_worker</th>\n",
       "      <th>credit_risk</th>\n",
       "      <th>kat_number_credits</th>\n",
       "    </tr>\n",
       "  </thead>\n",
       "  <tbody>\n",
       "    <tr>\n",
       "      <th>213</th>\n",
       "      <td>0&lt;= ... &lt; 200 DM</td>\n",
       "      <td>6</td>\n",
       "      <td>all credits at this bank paid back duly</td>\n",
       "      <td>others</td>\n",
       "      <td>1299</td>\n",
       "      <td>unknown/no savings account</td>\n",
       "      <td>1 &lt;= ... &lt; 4 yrs</td>\n",
       "      <td>&gt;= 35</td>\n",
       "      <td>male : married/widowed</td>\n",
       "      <td>none</td>\n",
       "      <td>...</td>\n",
       "      <td>74</td>\n",
       "      <td>none</td>\n",
       "      <td>rent</td>\n",
       "      <td>4-5</td>\n",
       "      <td>unemployed/unskilled - non-resident</td>\n",
       "      <td>3 or more</td>\n",
       "      <td>no</td>\n",
       "      <td>yes</td>\n",
       "      <td>good</td>\n",
       "      <td>4</td>\n",
       "    </tr>\n",
       "  </tbody>\n",
       "</table>\n",
       "<p>1 rows × 22 columns</p>\n",
       "</div>"
      ],
      "text/plain": [
       "               status  duration                           credit_history  \\\n",
       "213  0<= ... < 200 DM         6  all credits at this bank paid back duly   \n",
       "\n",
       "    purpose  amount                     savings employment_duration  \\\n",
       "213  others    1299  unknown/no savings account    1 <= ... < 4 yrs   \n",
       "\n",
       "    installment_rate     personal_status_sex other_debtors  ... age  \\\n",
       "213            >= 35  male : married/widowed          none  ...  74   \n",
       "\n",
       "    other_installment_plans  housing number_credits  \\\n",
       "213                    none     rent            4-5   \n",
       "\n",
       "                                     job people_liable telephone  \\\n",
       "213  unemployed/unskilled - non-resident     3 or more        no   \n",
       "\n",
       "    foreign_worker credit_risk kat_number_credits  \n",
       "213            yes        good                  4  \n",
       "\n",
       "[1 rows x 22 columns]"
      ]
     },
     "execution_count": 14,
     "metadata": {},
     "output_type": "execute_result"
    }
   ],
   "source": [
    "df[(df[\"foreign_worker\"] == \"yes\") & (df[\"kat_number_credits\"] > 3)]"
   ]
  },
  {
   "cell_type": "code",
   "execution_count": 15,
   "metadata": {
    "scrolled": true
   },
   "outputs": [
    {
     "name": "stdout",
     "output_type": "stream",
     "text": [
      "у 1 иностранца)\n"
     ]
    }
   ],
   "source": [
    "print(f'у {df[(df[\"foreign_worker\"] == \"yes\") & (df[\"kat_number_credits\"] > 3 )].shape[0]} иностранца)')"
   ]
  },
  {
   "cell_type": "markdown",
   "metadata": {
    "id": "KAe_K_upu8lg"
   },
   "source": [
    "### Задание 6 (1 балл)"
   ]
  },
  {
   "cell_type": "code",
   "execution_count": 16,
   "metadata": {
    "id": "Q1pVde3gjPNB"
   },
   "outputs": [],
   "source": [
    "import numpy as np\n",
    "import matplotlib.pyplot as plt\n",
    "%matplotlib inline"
   ]
  },
  {
   "cell_type": "markdown",
   "metadata": {
    "id": "aW45ioAJjWMo"
   },
   "source": [
    "Используя numpy и matplotlib, начнём с тренировки: постройте график функций $sin(x)$ и $cos(x)$ от $-\\pi$ до $\\pi$ из 100 точек c легендой и сеткой. Используйте для линий разные цвета, одна из них пусть будет пунктирной. Результат в этом и следующих заданиях на построение графиков должен получиться примерно как на картинке. Содержание подписей не должно обязательно совпадать, однако осмысленные подписи должны присутствовать на графиках."
   ]
  },
  {
   "cell_type": "code",
   "execution_count": 17,
   "metadata": {},
   "outputs": [
    {
     "data": {
      "image/png": "[encoded data removed]",
      "text/plain": [
       "<Figure size 432x288 with 1 Axes>"
      ]
     },
     "metadata": {
      "needs_background": "light"
     },
     "output_type": "display_data"
    }
   ],
   "source": [
    "fig = plt.subplot()\n",
    "plt.grid()\n",
    "x = np.linspace(-np.pi, np.pi,100)\n",
    "plt.plot(x, np.sin(x), color='cyan', label = 'y=sin(x)')\n",
    "plt.plot(x, np.cos(x), color='blue', linestyle='dashed', label = 'y=cos(x)')\n",
    "plt.legend()\n",
    "plt.title(\"Графики sin(x) и cos(x)\")\n",
    "plt.xlabel(\"Значение Х\")\n",
    "plt.ylabel(\"Значение У\")\n",
    "plt.show();"
   ]
  },
  {
   "cell_type": "markdown",
   "metadata": {
    "id": "toFoOig2u8lh"
   },
   "source": [
    "### Задание 7 (1 балл)"
   ]
  },
  {
   "cell_type": "markdown",
   "metadata": {
    "id": "9I3yl5dEu8lh"
   },
   "source": [
    "Рассмотрим сравнительное количество положительных и отрицательных кейсов в зависимости от размера текущего счёта с помощью зеркальных горизонтальных гистограмм."
   ]
  },
  {
   "cell_type": "code",
   "execution_count": 80,
   "metadata": {
    "scrolled": true
   },
   "outputs": [
    {
     "data": {
      "image/png": "[encoded data removed]",
      "text/plain": [
       "<Figure size 720x720 with 2 Axes>"
      ]
     },
     "metadata": {
      "needs_background": "light"
     },
     "output_type": "display_data"
    }
   ],
   "source": [
    "fig = plt.figure(figsize=(10,10))\n",
    "fig.suptitle('Сравнительное количество положительных и отрицательных кейсов в зависимости от размера текущего счёта')\n",
    "ax1 = fig.add_subplot(221)\n",
    "ax1.barh(y = df['status'].unique(), width= df[df['credit_risk'] == \"good\"].groupby(\"status\")[\"duration\"].count(), color= \"green\");\n",
    "ax1.invert_xaxis()\n",
    "plt.title(\"Good risk\")\n",
    "ax1.set_xlabel(\"Количество\")\n",
    "ax2 = fig.add_subplot(222)\n",
    "ax2.barh(y = df['status'].unique(), width = df[df['credit_risk'] == \"bad\"].groupby(\"status\")[\"duration\"].count(), color= \"red\")\n",
    "ax2.yaxis.tick_right()\n",
    "plt.title(\"Bad risk\")\n",
    "ax2.set_xlabel(\"Количество\")\n",
    "plt.show()"
   ]
  },
  {
   "cell_type": "markdown",
   "metadata": {
    "id": "bfJALnuMu8li"
   },
   "source": [
    "### Задание 8  (0.5 балла)"
   ]
  },
  {
   "cell_type": "code",
   "execution_count": 31,
   "metadata": {
    "id": "Yi_RIvTx00EE"
   },
   "outputs": [],
   "source": [
    "import seaborn as sns"
   ]
  },
  {
   "cell_type": "markdown",
   "metadata": {
    "id": "mFbzcUiwu8li"
   },
   "source": [
    "Теперь рассмотрим сравнительное количество положительных и отрицательных кейсов в зависимости от размера сберегательного счёта с помощью seaborn и более классических гистограмм. Какой способ вам больше нравится с точки зрения трудоёмкости написания кода? А с точки зрения восприятия результата?"
   ]
  },
  {
   "cell_type": "code",
   "execution_count": 32,
   "metadata": {
    "scrolled": false
   },
   "outputs": [
    {
     "data": {
      "image/png": "[encoded data removed]",
      "text/plain": [
       "<Figure size 720x360 with 1 Axes>"
      ]
     },
     "metadata": {
      "needs_background": "light"
     },
     "output_type": "display_data"
    }
   ],
   "source": [
    "plt.figure(figsize=(10,5))\n",
    "plt.title(\"Kоличество положительных и отрицательных кейсов в зависимости от размера сберегательного счёта \")\n",
    "sns.countplot(x = df['savings'], hue= df[\"credit_risk\"]);"
   ]
  },
  {
   "cell_type": "markdown",
   "metadata": {
    "id": "86JCla6mu8li"
   },
   "source": [
    "### Задание 9  (1 балл)"
   ]
  },
  {
   "cell_type": "markdown",
   "metadata": {
    "id": "KDWT_Zx4u8lj"
   },
   "source": [
    "seaborn легко позволяет добавить ещё больше информации на один график. Для каждого размера сберегательного счёта мы можем оценить не только количество положительных и отрицательных кейсов, но и их распределение по возрасту, например."
   ]
  },
  {
   "cell_type": "code",
   "execution_count": 33,
   "metadata": {
    "scrolled": false
   },
   "outputs": [
    {
     "data": {
      "image/png": "[encoded data removed]",
      "text/plain": [
       "<Figure size 1080x576 with 1 Axes>"
      ]
     },
     "metadata": {
      "needs_background": "light"
     },
     "output_type": "display_data"
    }
   ],
   "source": [
    "plt.figure(figsize=(15,8))\n",
    "plt.title(\"Количество положительных и отрицательных кейсов в зависимости от размера сберегательного счёта и их распределение по возрасту\")\n",
    "sns.violinplot(x=\"savings\", y=\"age\", data=df, hue='credit_risk', split=True);"
   ]
  },
  {
   "cell_type": "markdown",
   "metadata": {
    "id": "Q6ZBM9nqu8lj"
   },
   "source": [
    "### Задание 10  (0.5 балла)"
   ]
  },
  {
   "cell_type": "markdown",
   "metadata": {
    "id": "9w1ch-1cu8lj"
   },
   "source": [
    "Заканчивая с гистограммами, посмотрим на распределение положительных и отрицательных кейсов по возрастам, разместив их друг над другом. Добавим распределение всех взятых кредитов."
   ]
  },
  {
   "cell_type": "code",
   "execution_count": 85,
   "metadata": {},
   "outputs": [
    {
     "data": {
      "image/png": "[encoded data removed]",
      "text/plain": [
       "<Figure size 864x504 with 3 Axes>"
      ]
     },
     "metadata": {
      "needs_background": "light"
     },
     "output_type": "display_data"
    }
   ],
   "source": [
    "import matplotlib.patches as ozivashka\n",
    "plt.figure(figsize=(12, 7))\n",
    "green_patch = ozivashka.Patch(color='green', label='Good credit age distribution')\n",
    "red_patch = ozivashka.Patch(color='red', label='Bad credit age distribution')\n",
    "blue_patch = ozivashka.Patch(color='blue', label='Overall age distribution')\n",
    "plt.subplot(3, 1, 1)\n",
    "sns.distplot(x = df[df['credit_risk'] == \"good\"]['age'], color= \"green\", kde= False)\n",
    "plt.title(\"Распределение положительных и отрицательных кейсов по возратам\")\n",
    "plt.legend(handles=[green_patch, red_patch, blue_patch])\n",
    "plt.subplot(3, 1, 2)\n",
    "sns.distplot(x = df[df['credit_risk'] == \"bad\"]['age'], color= \"red\", kde= False)\n",
    "plt.subplot(3, 1, 3)\n",
    "sns.distplot(x = df['age'], color= \"blue\", kde= False);"
   ]
  },
  {
   "cell_type": "markdown",
   "metadata": {
    "id": "PVrJUff5u8lj"
   },
   "source": [
    "### Задание 11  (0.5 балла)"
   ]
  },
  {
   "cell_type": "markdown",
   "metadata": {
    "id": "Vh20VqxOu8lk"
   },
   "source": [
    "Не менее полезной иногда может быть диаграмма рассеяния. Постройте такую диаграмму с продолжительностью и размерами кредитов в качестве осей. Обозначьте положительные и отрицательные кейсы разными цветами."
   ]
  },
  {
   "cell_type": "code",
   "execution_count": 86,
   "metadata": {
    "scrolled": true
   },
   "outputs": [
    {
     "data": {
      "image/png": "[encoded data removed]",
      "text/plain": [
       "<Figure size 1080x576 with 1 Axes>"
      ]
     },
     "metadata": {
      "needs_background": "light"
     },
     "output_type": "display_data"
    }
   ],
   "source": [
    "plt.figure(figsize=(15,8))\n",
    "plt.title(\"Диаграмма рассеивания с продолжительностью и размерами кредитов\")\n",
    "sns.scatterplot(x='amount', y='duration', hue='credit_risk', data=df);"
   ]
  },
  {
   "cell_type": "markdown",
   "metadata": {
    "id": "mePIgqPqu8lk"
   },
   "source": [
    "### Задание 12  (1 балл)"
   ]
  },
  {
   "cell_type": "markdown",
   "metadata": {
    "id": "HWD2qUbLu8lk"
   },
   "source": [
    "Продвинемся глубже. Постройте 3D версию диаграммы рассеяния, добавив ось с возрастом."
   ]
  },
  {
   "cell_type": "code",
   "execution_count": 87,
   "metadata": {
    "colab": {
     "base_uri": "https://localhost:8080/",
     "height": 466
    },
    "id": "SU2bmkPIu8lk",
    "outputId": "bccaab35-5fc2-4249-8ae2-309e53dcbd26",
    "scrolled": true
   },
   "outputs": [
    {
     "data": {
      "image/png": "[encoded data removed]",
      "text/plain": [
       "<Figure size 360x360 with 1 Axes>"
      ]
     },
     "metadata": {
      "needs_background": "light"
     },
     "output_type": "display_data"
    }
   ],
   "source": [
    "from mpl_toolkits.mplot3d import Axes3D\n",
    "fig = plt.figure(figsize=(5,5))\n",
    "ax = Axes3D(fig)\n",
    "x = df[\"amount\"]\n",
    "y = df[\"duration\"]\n",
    "z = df[\"age\"]\n",
    "ax.scatter(x, y, z, c=x, marker='o')\n",
    "ax.set_xlabel('Amount')\n",
    "ax.set_ylabel('Duration')\n",
    "ax.set_zlabel('Age')\n",
    "plt.title(\"Диаграмма рассеивания с продолжительностью, размерами кредитов и возрастом\")\n",
    "plt.show()"
   ]
  },
  {
   "cell_type": "markdown",
   "metadata": {
    "id": "8Zxx_kxSYa_l"
   },
   "source": [
    "### Задание 13  (0.5 балла)"
   ]
  },
  {
   "cell_type": "markdown",
   "metadata": {
    "id": "5YBhNGg6Yjuw"
   },
   "source": [
    "Представьте все порядковые и бинарные признаки в виде числовых значений (0, .., n). Избавьтесь от номинальных признаков."
   ]
  },
  {
   "cell_type": "code",
   "execution_count": 88,
   "metadata": {},
   "outputs": [],
   "source": [
    "from sklearn.preprocessing import LabelEncoder"
   ]
  },
  {
   "cell_type": "code",
   "execution_count": 89,
   "metadata": {},
   "outputs": [
    {
     "data": {
      "text/html": [
       "<div>\n",
       "<style scoped>\n",
       "    .dataframe tbody tr th:only-of-type {\n",
       "        vertical-align: middle;\n",
       "    }\n",
       "\n",
       "    .dataframe tbody tr th {\n",
       "        vertical-align: top;\n",
       "    }\n",
       "\n",
       "    .dataframe thead th {\n",
       "        text-align: right;\n",
       "    }\n",
       "</style>\n",
       "<table border=\"1\" class=\"dataframe\">\n",
       "  <thead>\n",
       "    <tr style=\"text-align: right;\">\n",
       "      <th></th>\n",
       "      <th>people_liable</th>\n",
       "      <th>telephone</th>\n",
       "      <th>foreign_worker</th>\n",
       "      <th>credit_risk</th>\n",
       "    </tr>\n",
       "  </thead>\n",
       "  <tbody>\n",
       "    <tr>\n",
       "      <th>0</th>\n",
       "      <td>0</td>\n",
       "      <td>0</td>\n",
       "      <td>0</td>\n",
       "      <td>1</td>\n",
       "    </tr>\n",
       "    <tr>\n",
       "      <th>1</th>\n",
       "      <td>1</td>\n",
       "      <td>0</td>\n",
       "      <td>0</td>\n",
       "      <td>1</td>\n",
       "    </tr>\n",
       "    <tr>\n",
       "      <th>2</th>\n",
       "      <td>0</td>\n",
       "      <td>0</td>\n",
       "      <td>0</td>\n",
       "      <td>1</td>\n",
       "    </tr>\n",
       "    <tr>\n",
       "      <th>3</th>\n",
       "      <td>1</td>\n",
       "      <td>0</td>\n",
       "      <td>1</td>\n",
       "      <td>1</td>\n",
       "    </tr>\n",
       "    <tr>\n",
       "      <th>4</th>\n",
       "      <td>0</td>\n",
       "      <td>0</td>\n",
       "      <td>1</td>\n",
       "      <td>1</td>\n",
       "    </tr>\n",
       "    <tr>\n",
       "      <th>...</th>\n",
       "      <td>...</td>\n",
       "      <td>...</td>\n",
       "      <td>...</td>\n",
       "      <td>...</td>\n",
       "    </tr>\n",
       "    <tr>\n",
       "      <th>995</th>\n",
       "      <td>1</td>\n",
       "      <td>0</td>\n",
       "      <td>0</td>\n",
       "      <td>0</td>\n",
       "    </tr>\n",
       "    <tr>\n",
       "      <th>996</th>\n",
       "      <td>0</td>\n",
       "      <td>0</td>\n",
       "      <td>0</td>\n",
       "      <td>0</td>\n",
       "    </tr>\n",
       "    <tr>\n",
       "      <th>997</th>\n",
       "      <td>0</td>\n",
       "      <td>1</td>\n",
       "      <td>0</td>\n",
       "      <td>0</td>\n",
       "    </tr>\n",
       "    <tr>\n",
       "      <th>998</th>\n",
       "      <td>0</td>\n",
       "      <td>1</td>\n",
       "      <td>0</td>\n",
       "      <td>0</td>\n",
       "    </tr>\n",
       "    <tr>\n",
       "      <th>999</th>\n",
       "      <td>0</td>\n",
       "      <td>0</td>\n",
       "      <td>0</td>\n",
       "      <td>0</td>\n",
       "    </tr>\n",
       "  </tbody>\n",
       "</table>\n",
       "<p>1000 rows × 4 columns</p>\n",
       "</div>"
      ],
      "text/plain": [
       "     people_liable  telephone  foreign_worker  credit_risk\n",
       "0                0          0               0            1\n",
       "1                1          0               0            1\n",
       "2                0          0               0            1\n",
       "3                1          0               1            1\n",
       "4                0          0               1            1\n",
       "..             ...        ...             ...          ...\n",
       "995              1          0               0            0\n",
       "996              0          0               0            0\n",
       "997              0          1               0            0\n",
       "998              0          1               0            0\n",
       "999              0          0               0            0\n",
       "\n",
       "[1000 rows x 4 columns]"
      ]
     },
     "execution_count": 89,
     "metadata": {},
     "output_type": "execute_result"
    }
   ],
   "source": [
    "for i in binar:\n",
    "    label = LabelEncoder()\n",
    "    df[i] = label.fit_transform(df[i])\n",
    "df[binar] "
   ]
  },
  {
   "cell_type": "code",
   "execution_count": 90,
   "metadata": {},
   "outputs": [
    {
     "data": {
      "text/html": [
       "<div>\n",
       "<style scoped>\n",
       "    .dataframe tbody tr th:only-of-type {\n",
       "        vertical-align: middle;\n",
       "    }\n",
       "\n",
       "    .dataframe tbody tr th {\n",
       "        vertical-align: top;\n",
       "    }\n",
       "\n",
       "    .dataframe thead th {\n",
       "        text-align: right;\n",
       "    }\n",
       "</style>\n",
       "<table border=\"1\" class=\"dataframe\">\n",
       "  <thead>\n",
       "    <tr style=\"text-align: right;\">\n",
       "      <th></th>\n",
       "      <th>savings</th>\n",
       "      <th>employment_duration</th>\n",
       "      <th>installment_rate</th>\n",
       "      <th>present_residence</th>\n",
       "      <th>number_credits</th>\n",
       "    </tr>\n",
       "  </thead>\n",
       "  <tbody>\n",
       "    <tr>\n",
       "      <th>0</th>\n",
       "      <td>4</td>\n",
       "      <td>2</td>\n",
       "      <td>2</td>\n",
       "      <td>3</td>\n",
       "      <td>0</td>\n",
       "    </tr>\n",
       "    <tr>\n",
       "      <th>1</th>\n",
       "      <td>4</td>\n",
       "      <td>0</td>\n",
       "      <td>1</td>\n",
       "      <td>0</td>\n",
       "      <td>1</td>\n",
       "    </tr>\n",
       "    <tr>\n",
       "      <th>2</th>\n",
       "      <td>0</td>\n",
       "      <td>1</td>\n",
       "      <td>1</td>\n",
       "      <td>3</td>\n",
       "      <td>0</td>\n",
       "    </tr>\n",
       "    <tr>\n",
       "      <th>3</th>\n",
       "      <td>4</td>\n",
       "      <td>0</td>\n",
       "      <td>0</td>\n",
       "      <td>0</td>\n",
       "      <td>1</td>\n",
       "    </tr>\n",
       "    <tr>\n",
       "      <th>4</th>\n",
       "      <td>4</td>\n",
       "      <td>0</td>\n",
       "      <td>2</td>\n",
       "      <td>3</td>\n",
       "      <td>1</td>\n",
       "    </tr>\n",
       "    <tr>\n",
       "      <th>...</th>\n",
       "      <td>...</td>\n",
       "      <td>...</td>\n",
       "      <td>...</td>\n",
       "      <td>...</td>\n",
       "      <td>...</td>\n",
       "    </tr>\n",
       "    <tr>\n",
       "      <th>995</th>\n",
       "      <td>4</td>\n",
       "      <td>0</td>\n",
       "      <td>1</td>\n",
       "      <td>3</td>\n",
       "      <td>0</td>\n",
       "    </tr>\n",
       "    <tr>\n",
       "      <th>996</th>\n",
       "      <td>4</td>\n",
       "      <td>3</td>\n",
       "      <td>2</td>\n",
       "      <td>2</td>\n",
       "      <td>0</td>\n",
       "    </tr>\n",
       "    <tr>\n",
       "      <th>997</th>\n",
       "      <td>1</td>\n",
       "      <td>3</td>\n",
       "      <td>2</td>\n",
       "      <td>3</td>\n",
       "      <td>0</td>\n",
       "    </tr>\n",
       "    <tr>\n",
       "      <th>998</th>\n",
       "      <td>1</td>\n",
       "      <td>4</td>\n",
       "      <td>1</td>\n",
       "      <td>2</td>\n",
       "      <td>0</td>\n",
       "    </tr>\n",
       "    <tr>\n",
       "      <th>999</th>\n",
       "      <td>1</td>\n",
       "      <td>3</td>\n",
       "      <td>2</td>\n",
       "      <td>3</td>\n",
       "      <td>0</td>\n",
       "    </tr>\n",
       "  </tbody>\n",
       "</table>\n",
       "<p>1000 rows × 5 columns</p>\n",
       "</div>"
      ],
      "text/plain": [
       "     savings  employment_duration  installment_rate  present_residence  \\\n",
       "0          4                    2                 2                  3   \n",
       "1          4                    0                 1                  0   \n",
       "2          0                    1                 1                  3   \n",
       "3          4                    0                 0                  0   \n",
       "4          4                    0                 2                  3   \n",
       "..       ...                  ...               ...                ...   \n",
       "995        4                    0                 1                  3   \n",
       "996        4                    3                 2                  2   \n",
       "997        1                    3                 2                  3   \n",
       "998        1                    4                 1                  2   \n",
       "999        1                    3                 2                  3   \n",
       "\n",
       "     number_credits  \n",
       "0                 0  \n",
       "1                 1  \n",
       "2                 0  \n",
       "3                 1  \n",
       "4                 1  \n",
       "..              ...  \n",
       "995               0  \n",
       "996               0  \n",
       "997               0  \n",
       "998               0  \n",
       "999               0  \n",
       "\n",
       "[1000 rows x 5 columns]"
      ]
     },
     "execution_count": 90,
     "metadata": {},
     "output_type": "execute_result"
    }
   ],
   "source": [
    "for i in poryadkov:\n",
    "    label = LabelEncoder()\n",
    "    df[i] = label.fit_transform(df[i])\n",
    "df[poryadkov] "
   ]
  },
  {
   "cell_type": "code",
   "execution_count": 91,
   "metadata": {},
   "outputs": [],
   "source": [
    "df.drop(nominal, axis=1, inplace=True)"
   ]
  },
  {
   "cell_type": "code",
   "execution_count": 92,
   "metadata": {},
   "outputs": [
    {
     "data": {
      "text/html": [
       "<div>\n",
       "<style scoped>\n",
       "    .dataframe tbody tr th:only-of-type {\n",
       "        vertical-align: middle;\n",
       "    }\n",
       "\n",
       "    .dataframe tbody tr th {\n",
       "        vertical-align: top;\n",
       "    }\n",
       "\n",
       "    .dataframe thead th {\n",
       "        text-align: right;\n",
       "    }\n",
       "</style>\n",
       "<table border=\"1\" class=\"dataframe\">\n",
       "  <thead>\n",
       "    <tr style=\"text-align: right;\">\n",
       "      <th></th>\n",
       "      <th>duration</th>\n",
       "      <th>amount</th>\n",
       "      <th>savings</th>\n",
       "      <th>employment_duration</th>\n",
       "      <th>installment_rate</th>\n",
       "      <th>present_residence</th>\n",
       "      <th>age</th>\n",
       "      <th>number_credits</th>\n",
       "      <th>people_liable</th>\n",
       "      <th>telephone</th>\n",
       "      <th>foreign_worker</th>\n",
       "      <th>credit_risk</th>\n",
       "    </tr>\n",
       "  </thead>\n",
       "  <tbody>\n",
       "    <tr>\n",
       "      <th>0</th>\n",
       "      <td>18</td>\n",
       "      <td>1049</td>\n",
       "      <td>4</td>\n",
       "      <td>2</td>\n",
       "      <td>2</td>\n",
       "      <td>3</td>\n",
       "      <td>21</td>\n",
       "      <td>0</td>\n",
       "      <td>0</td>\n",
       "      <td>0</td>\n",
       "      <td>0</td>\n",
       "      <td>1</td>\n",
       "    </tr>\n",
       "    <tr>\n",
       "      <th>1</th>\n",
       "      <td>9</td>\n",
       "      <td>2799</td>\n",
       "      <td>4</td>\n",
       "      <td>0</td>\n",
       "      <td>1</td>\n",
       "      <td>0</td>\n",
       "      <td>36</td>\n",
       "      <td>1</td>\n",
       "      <td>1</td>\n",
       "      <td>0</td>\n",
       "      <td>0</td>\n",
       "      <td>1</td>\n",
       "    </tr>\n",
       "    <tr>\n",
       "      <th>2</th>\n",
       "      <td>12</td>\n",
       "      <td>841</td>\n",
       "      <td>0</td>\n",
       "      <td>1</td>\n",
       "      <td>1</td>\n",
       "      <td>3</td>\n",
       "      <td>23</td>\n",
       "      <td>0</td>\n",
       "      <td>0</td>\n",
       "      <td>0</td>\n",
       "      <td>0</td>\n",
       "      <td>1</td>\n",
       "    </tr>\n",
       "    <tr>\n",
       "      <th>3</th>\n",
       "      <td>12</td>\n",
       "      <td>2122</td>\n",
       "      <td>4</td>\n",
       "      <td>0</td>\n",
       "      <td>0</td>\n",
       "      <td>0</td>\n",
       "      <td>39</td>\n",
       "      <td>1</td>\n",
       "      <td>1</td>\n",
       "      <td>0</td>\n",
       "      <td>1</td>\n",
       "      <td>1</td>\n",
       "    </tr>\n",
       "    <tr>\n",
       "      <th>4</th>\n",
       "      <td>12</td>\n",
       "      <td>2171</td>\n",
       "      <td>4</td>\n",
       "      <td>0</td>\n",
       "      <td>2</td>\n",
       "      <td>3</td>\n",
       "      <td>38</td>\n",
       "      <td>1</td>\n",
       "      <td>0</td>\n",
       "      <td>0</td>\n",
       "      <td>1</td>\n",
       "      <td>1</td>\n",
       "    </tr>\n",
       "    <tr>\n",
       "      <th>...</th>\n",
       "      <td>...</td>\n",
       "      <td>...</td>\n",
       "      <td>...</td>\n",
       "      <td>...</td>\n",
       "      <td>...</td>\n",
       "      <td>...</td>\n",
       "      <td>...</td>\n",
       "      <td>...</td>\n",
       "      <td>...</td>\n",
       "      <td>...</td>\n",
       "      <td>...</td>\n",
       "      <td>...</td>\n",
       "    </tr>\n",
       "    <tr>\n",
       "      <th>995</th>\n",
       "      <td>24</td>\n",
       "      <td>1987</td>\n",
       "      <td>4</td>\n",
       "      <td>0</td>\n",
       "      <td>1</td>\n",
       "      <td>3</td>\n",
       "      <td>21</td>\n",
       "      <td>0</td>\n",
       "      <td>1</td>\n",
       "      <td>0</td>\n",
       "      <td>0</td>\n",
       "      <td>0</td>\n",
       "    </tr>\n",
       "    <tr>\n",
       "      <th>996</th>\n",
       "      <td>24</td>\n",
       "      <td>2303</td>\n",
       "      <td>4</td>\n",
       "      <td>3</td>\n",
       "      <td>2</td>\n",
       "      <td>2</td>\n",
       "      <td>45</td>\n",
       "      <td>0</td>\n",
       "      <td>0</td>\n",
       "      <td>0</td>\n",
       "      <td>0</td>\n",
       "      <td>0</td>\n",
       "    </tr>\n",
       "    <tr>\n",
       "      <th>997</th>\n",
       "      <td>21</td>\n",
       "      <td>12680</td>\n",
       "      <td>1</td>\n",
       "      <td>3</td>\n",
       "      <td>2</td>\n",
       "      <td>3</td>\n",
       "      <td>30</td>\n",
       "      <td>0</td>\n",
       "      <td>0</td>\n",
       "      <td>1</td>\n",
       "      <td>0</td>\n",
       "      <td>0</td>\n",
       "    </tr>\n",
       "    <tr>\n",
       "      <th>998</th>\n",
       "      <td>12</td>\n",
       "      <td>6468</td>\n",
       "      <td>1</td>\n",
       "      <td>4</td>\n",
       "      <td>1</td>\n",
       "      <td>2</td>\n",
       "      <td>52</td>\n",
       "      <td>0</td>\n",
       "      <td>0</td>\n",
       "      <td>1</td>\n",
       "      <td>0</td>\n",
       "      <td>0</td>\n",
       "    </tr>\n",
       "    <tr>\n",
       "      <th>999</th>\n",
       "      <td>30</td>\n",
       "      <td>6350</td>\n",
       "      <td>1</td>\n",
       "      <td>3</td>\n",
       "      <td>2</td>\n",
       "      <td>3</td>\n",
       "      <td>31</td>\n",
       "      <td>0</td>\n",
       "      <td>0</td>\n",
       "      <td>0</td>\n",
       "      <td>0</td>\n",
       "      <td>0</td>\n",
       "    </tr>\n",
       "  </tbody>\n",
       "</table>\n",
       "<p>1000 rows × 12 columns</p>\n",
       "</div>"
      ],
      "text/plain": [
       "     duration  amount  savings  employment_duration  installment_rate  \\\n",
       "0          18    1049        4                    2                 2   \n",
       "1           9    2799        4                    0                 1   \n",
       "2          12     841        0                    1                 1   \n",
       "3          12    2122        4                    0                 0   \n",
       "4          12    2171        4                    0                 2   \n",
       "..        ...     ...      ...                  ...               ...   \n",
       "995        24    1987        4                    0                 1   \n",
       "996        24    2303        4                    3                 2   \n",
       "997        21   12680        1                    3                 2   \n",
       "998        12    6468        1                    4                 1   \n",
       "999        30    6350        1                    3                 2   \n",
       "\n",
       "     present_residence  age  number_credits  people_liable  telephone  \\\n",
       "0                    3   21               0              0          0   \n",
       "1                    0   36               1              1          0   \n",
       "2                    3   23               0              0          0   \n",
       "3                    0   39               1              1          0   \n",
       "4                    3   38               1              0          0   \n",
       "..                 ...  ...             ...            ...        ...   \n",
       "995                  3   21               0              1          0   \n",
       "996                  2   45               0              0          0   \n",
       "997                  3   30               0              0          1   \n",
       "998                  2   52               0              0          1   \n",
       "999                  3   31               0              0          0   \n",
       "\n",
       "     foreign_worker  credit_risk  \n",
       "0                 0            1  \n",
       "1                 0            1  \n",
       "2                 0            1  \n",
       "3                 1            1  \n",
       "4                 1            1  \n",
       "..              ...          ...  \n",
       "995               0            0  \n",
       "996               0            0  \n",
       "997               0            0  \n",
       "998               0            0  \n",
       "999               0            0  \n",
       "\n",
       "[1000 rows x 12 columns]"
      ]
     },
     "execution_count": 92,
     "metadata": {},
     "output_type": "execute_result"
    }
   ],
   "source": [
    "df.drop(\"kat_number_credits\", axis=1)"
   ]
  },
  {
   "cell_type": "markdown",
   "metadata": {
    "id": "Iz7VTiFpu8lo"
   },
   "source": [
    "### Задание 14  (2 балла)"
   ]
  },
  {
   "cell_type": "markdown",
   "metadata": {
    "id": "Mv52wusiu8lo"
   },
   "source": [
    "По результатам предыдущего задания у вас должна получиться таблица, в которой все признаки так или иначе представлены числовыми значениями. Попробуйте придумать на основе проведённых исследований данных какую-нибудь формулу, связывающую целевую переменную с признаками, не используя готовых инструментов машинного обучения. По желанию вы можете исключить ещё какие-то признаки, или, наоборот, сформировать новые на основе имеющихся. Возможно, вы захотите отмасштабировать большие наборы численных значений некоторых признаков с помощью интервалов. Цель: реализовать функцию, которая будет принимать на вход набор признаков для объекта выборки и возвращать прогноз целевой переменной (0 или 1). Например, вы можете просто сложить все признаки и возращать ноль, если сумма отрицательная, а в противном случае единицу. Но наверняка можно придумать лучше! Данные уже разделены на набор для обучения, который вы можете использовать как угодно, и тестовый, на котором нужно будет проверить вашу точность. Постарайтесь достичь точности хотя бы 0.6."
   ]
  },
  {
   "cell_type": "code",
   "execution_count": 95,
   "metadata": {
    "id": "V8vjz88qu8lo"
   },
   "outputs": [
    {
     "data": {
      "text/plain": [
       "0.66"
      ]
     },
     "execution_count": 95,
     "metadata": {},
     "output_type": "execute_result"
    }
   ],
   "source": [
    "def predict(Xtest: np.array) -> np.array:\n",
    "    k = []\n",
    "    for i in Xtest:\n",
    "        a =  i * [-3, -6, -2, -2, -1, -4, 2, -6, -1, 1, 1, 1] # Берем магические коэфиценты\n",
    "        mini = a.min()\n",
    "        maxi = a.max()\n",
    "        sr_sum = (mini + maxi)* 12 / 2\n",
    "        if a.sum() < sr_sum: # Сравниваем сумму взвешенных параметров со средней\n",
    "            k.append(0)\n",
    "        else:\n",
    "            k.append(1)\n",
    "    return np.array(k)\n",
    "    \n",
    "\n",
    "from sklearn.model_selection import train_test_split\n",
    "from sklearn.metrics import accuracy_score\n",
    "X = df.drop('credit_risk', 1).values\n",
    "y = df['credit_risk'].values\n",
    "X_train, X_test, y_train, y_test = train_test_split(X, y, test_size=0.25, random_state=10)\n",
    "accuracy_score(y_test, predict(X_test))"
   ]
  }
 ],
 "metadata": {
  "colab": {
   "name": "hw1.ipynb",
   "provenance": []
  },
  "kernelspec": {
   "display_name": "Python 3",
   "language": "python",
   "name": "python3"
  },
  "language_info": {
   "codemirror_mode": {
    "name": "ipython",
    "version": 3
   },
   "file_extension": ".py",
   "mimetype": "text/x-python",
   "name": "python",
   "nbconvert_exporter": "python",
   "pygments_lexer": "ipython3",
   "version": "3.8.2"
  }
 },
 "nbformat": 4,
 "nbformat_minor": 1
}
